{
  "nbformat": 4,
  "nbformat_minor": 0,
  "metadata": {
    "colab": {
      "name": "hotel_repeated.ipynb",
      "provenance": [],
      "collapsed_sections": []
    },
    "kernelspec": {
      "name": "python3",
      "display_name": "Python 3"
    }
  },
  "cells": [
    {
      "cell_type": "markdown",
      "metadata": {
        "id": "_XiuXVn7nlpo",
        "colab_type": "text"
      },
      "source": [
        "## Get data"
      ]
    },
    {
      "cell_type": "code",
      "metadata": {
        "id": "AybPKnP1mH0a",
        "colab_type": "code",
        "outputId": "732ac4a8-6710-47f9-fa1e-88e0c6b2a338",
        "colab": {
          "base_uri": "https://localhost:8080/",
          "height": 260
        }
      },
      "source": [
        "!wget http://students.mimuw.edu.pl/~wd393711/iml/hotel-booking-demand.zip\n",
        "!unzip hotel-booking-demand.zip"
      ],
      "execution_count": 1,
      "outputs": [
        {
          "output_type": "stream",
          "text": [
            "--2020-04-02 17:58:16--  http://students.mimuw.edu.pl/~wd393711/iml/hotel-booking-demand.zip\n",
            "Resolving students.mimuw.edu.pl (students.mimuw.edu.pl)... 193.0.96.129, 2001:6a0:5001:1::3\n",
            "Connecting to students.mimuw.edu.pl (students.mimuw.edu.pl)|193.0.96.129|:80... connected.\n",
            "HTTP request sent, awaiting response... 200 OK\n",
            "Length: 1308365 (1.2M) [application/zip]\n",
            "Saving to: ‘hotel-booking-demand.zip.2’\n",
            "\n",
            "hotel-booking-deman 100%[===================>]   1.25M  1.32MB/s    in 0.9s    \n",
            "\n",
            "2020-04-02 17:58:18 (1.32 MB/s) - ‘hotel-booking-demand.zip.2’ saved [1308365/1308365]\n",
            "\n",
            "Archive:  hotel-booking-demand.zip\n",
            "replace hotel_bookings.csv? [y]es, [n]o, [A]ll, [N]one, [r]ename: A\n",
            "  inflating: hotel_bookings.csv      \n"
          ],
          "name": "stdout"
        }
      ]
    },
    {
      "cell_type": "markdown",
      "metadata": {
        "id": "PUZKPUAtnoE1",
        "colab_type": "text"
      },
      "source": [
        "## Some imports"
      ]
    },
    {
      "cell_type": "code",
      "metadata": {
        "id": "HirZfSORmaVO",
        "colab_type": "code",
        "colab": {}
      },
      "source": [
        "import pandas as pd\n",
        "import numpy as np"
      ],
      "execution_count": 0,
      "outputs": []
    },
    {
      "cell_type": "markdown",
      "metadata": {
        "id": "vtVlI0P3nqR_",
        "colab_type": "text"
      },
      "source": [
        "## Load data"
      ]
    },
    {
      "cell_type": "code",
      "metadata": {
        "id": "ORyOR0VhzpjN",
        "colab_type": "code",
        "colab": {}
      },
      "source": [
        "def process_data(data):\n",
        "    # Indicate if the booking was made by a company\n",
        "    data['has_company'] = data['company'].isnull()\n",
        "    data = data.drop(columns='company')\n",
        "    # Indicate if the booking was made by an agency\n",
        "    data['has_agent'] = data['agent'].isnull()\n",
        "    data = data.drop(columns='agent')\n",
        "    # Encode months as oredered categorical values\n",
        "    data['arrival_date_month'] = data['arrival_date_month'].astype('category').cat.set_categories([\"January\", \"February\", \"March\", \"April\", \"May\", \"June\", \"July\", \"August\", \"September\", \"October\", \"November\", \"December\"], ordered=True)\n",
        "    # Drop not used information\n",
        "    data = data.drop(columns='reservation_status_date')\n",
        "    # Encode reservation status, custome type, deposit type\n",
        "    data = pd.get_dummies(data, columns=['reservation_status', 'customer_type', 'deposit_type', 'market_segment', 'distribution_channel', 'meal'])\n",
        "    # Encode difference in room type\n",
        "    data['got_higher_type_room'] = data['reserved_room_type'] > data['assigned_room_type']\n",
        "    data['got_lower_type_room'] = data['reserved_room_type'] < data['assigned_room_type']\n",
        "    data['reserved_room_type'] = data['reserved_room_type'].astype('category')\n",
        "    data['assigned_room_type'] = data['assigned_room_type'].astype('category')\n",
        "    # Treat counties as categorial data\n",
        "    data = data.drop(columns=['country'])\n",
        "    # Drop hotel name\n",
        "    data = data.drop(columns='hotel')\n",
        "    # If children is Nan treat it as 0\n",
        "    data['children'] = data['children'].fillna(0)\n",
        "    # Encode categorial data with ints\n",
        "    categorial_columns = data.select_dtypes(['category']).columns\n",
        "    data[categorial_columns] = data[categorial_columns].apply(lambda x: x.cat.codes)\n",
        "    return data"
      ],
      "execution_count": 0,
      "outputs": []
    },
    {
      "cell_type": "code",
      "metadata": {
        "id": "gbpkWXjIoABa",
        "colab_type": "code",
        "colab": {}
      },
      "source": [
        "def split_to_test_and_train(data, p=0.1):\n",
        "    train_mask = np.random.rand(len(data)) < 0.9\n",
        "    return data[train_mask], data[~train_mask]\n",
        "\n",
        "def split_to_x_y(data, y_column=\"is_repeated_guest\"):\n",
        "    return data.loc[:, data.columns != y_column], data[y_column]\n",
        "\n",
        "def get_data(data):\n",
        "    return (split_to_x_y(ds) for ds in split_to_test_and_train(data))"
      ],
      "execution_count": 0,
      "outputs": []
    },
    {
      "cell_type": "code",
      "metadata": {
        "id": "K2f2VM_pmdqE",
        "colab_type": "code",
        "colab": {}
      },
      "source": [
        "data = process_data(pd.read_csv(\"hotel_bookings.csv\"))\n",
        "(train_x, train_y), (test_x, test_y) = get_data(data)"
      ],
      "execution_count": 0,
      "outputs": []
    },
    {
      "cell_type": "code",
      "metadata": {
        "id": "vm8GqIOsmsXc",
        "colab_type": "code",
        "colab": {}
      },
      "source": [
        "from xgboost import XGBClassifier\n",
        "from sklearn.ensemble import RandomForestClassifier\n",
        "models = {\"XGBClassifier\": XGBClassifier(), \"XGBClassifier_spw16\": XGBClassifier(scale_pos_weight=16.), \"XGBClassifier_spw30\": XGBClassifier(scale_pos_weight=30.), \"RandomForestClassifier\": RandomForestClassifier()}"
      ],
      "execution_count": 0,
      "outputs": []
    },
    {
      "cell_type": "markdown",
      "metadata": {
        "id": "pMW-xAu-nwat",
        "colab_type": "text"
      },
      "source": [
        "## Train models"
      ]
    },
    {
      "cell_type": "code",
      "metadata": {
        "id": "hK9Ro0AZnHvr",
        "colab_type": "code",
        "colab": {}
      },
      "source": [
        "for model_name, model in models.items():\n",
        "    model.fit(train_x, train_y)"
      ],
      "execution_count": 0,
      "outputs": []
    },
    {
      "cell_type": "markdown",
      "metadata": {
        "id": "ECPXM9JzqKr4",
        "colab_type": "text"
      },
      "source": [
        "## Evaluate models\n"
      ]
    },
    {
      "cell_type": "code",
      "metadata": {
        "id": "GaGOBQ0R7T_T",
        "colab_type": "code",
        "colab": {}
      },
      "source": [
        "# Describe the distribution of the result in the test dataset\n",
        "pd.DataFrame(test_y).describe()"
      ],
      "execution_count": 0,
      "outputs": []
    },
    {
      "cell_type": "code",
      "metadata": {
        "id": "Byd2Z5m9nDSC",
        "colab_type": "code",
        "colab": {}
      },
      "source": [
        "from sklearn.metrics import accuracy_score\n",
        "for model_name, model in models.items():\n",
        "    train_accuracy = accuracy_score(test_y, model.predict(test_x))\n",
        "    test_accuracy = accuracy_score(test_y, model.predict(test_x))\n",
        "    test_wrong_answer_distribution = pd.DataFrame(test_y[model.predict(test_x) != test_y.values]).describe().loc['mean'].values[0]\n",
        "    print(\"model:\", model_name, \"\\n\",\n",
        "          \"\\ttrain acc:\", train_accuracy, \"\\n\"\n",
        "          \"\\ttest acc:\", test_accuracy, \"\\n\"\n",
        "          \"\\tmean value of the wrong answer for prediction on the test part:\", test_wrong_answer_distribution)"
      ],
      "execution_count": 0,
      "outputs": []
    }
  ]
}