{
  "nbformat": 4,
  "nbformat_minor": 0,
  "metadata": {
    "colab": {
      "name": "hotel_repeated.ipynb",
      "provenance": [],
      "collapsed_sections": []
    },
    "kernelspec": {
      "name": "python3",
      "display_name": "Python 3"
    }
  },
  "cells": [
    {
      "cell_type": "markdown",
      "metadata": {
        "id": "kyum6OxpGuMs",
        "colab_type": "text"
      },
      "source": [
        "## Install modules"
      ]
    },
    {
      "cell_type": "code",
      "metadata": {
        "id": "pCFhfo2WGw_i",
        "colab_type": "code",
        "colab": {}
      },
      "source": [
        "!pip3 install dalex"
      ],
      "execution_count": 0,
      "outputs": []
    },
    {
      "cell_type": "markdown",
      "metadata": {
        "id": "_XiuXVn7nlpo",
        "colab_type": "text"
      },
      "source": [
        "## Get data"
      ]
    },
    {
      "cell_type": "code",
      "metadata": {
        "id": "AybPKnP1mH0a",
        "colab_type": "code",
        "colab": {}
      },
      "source": [
        "!wget http://students.mimuw.edu.pl/~wd393711/iml/hotel-booking-demand.zip\n",
        "!unzip -o hotel-booking-demand.zip"
      ],
      "execution_count": 0,
      "outputs": []
    },
    {
      "cell_type": "markdown",
      "metadata": {
        "id": "PUZKPUAtnoE1",
        "colab_type": "text"
      },
      "source": [
        "## Some imports"
      ]
    },
    {
      "cell_type": "code",
      "metadata": {
        "id": "HirZfSORmaVO",
        "colab_type": "code",
        "colab": {}
      },
      "source": [
        "import pandas as pd\n",
        "import numpy as np\n",
        "np.random.seed(1)"
      ],
      "execution_count": 0,
      "outputs": []
    },
    {
      "cell_type": "markdown",
      "metadata": {
        "id": "vtVlI0P3nqR_",
        "colab_type": "text"
      },
      "source": [
        "## Load data"
      ]
    },
    {
      "cell_type": "code",
      "metadata": {
        "id": "ORyOR0VhzpjN",
        "colab_type": "code",
        "colab": {}
      },
      "source": [
        "def process_data(data):\n",
        "    # Indicate if the booking was made by a company\n",
        "    data['has_company'] = data['company'].isnull()\n",
        "    data = data.drop(columns='company')\n",
        "    # Indicate if the booking was made by an agency\n",
        "    data['has_agent'] = data['agent'].isnull()\n",
        "    data = data.drop(columns='agent')\n",
        "    # Encode months as oredered categorical values\n",
        "    data['arrival_date_month'] = data['arrival_date_month'].astype('category').cat.set_categories([\"January\", \"February\", \"March\", \"April\", \"May\", \"June\", \"July\", \"August\", \"September\", \"October\", \"November\", \"December\"], ordered=True)\n",
        "    # Drop not used information\n",
        "    data = data.drop(columns='reservation_status_date')\n",
        "    # Encode reservation status, custome type, deposit type\n",
        "    data = pd.get_dummies(data, columns=['reservation_status', 'customer_type', 'deposit_type', 'market_segment', 'distribution_channel', 'meal'])\n",
        "    # Encode difference in room type\n",
        "    data['got_higher_type_room'] = data['reserved_room_type'] > data['assigned_room_type']\n",
        "    data['got_lower_type_room'] = data['reserved_room_type'] < data['assigned_room_type']\n",
        "    data['reserved_room_type'] = data['reserved_room_type'].astype('category')\n",
        "    data['assigned_room_type'] = data['assigned_room_type'].astype('category')\n",
        "    # Treat counties as categorial data\n",
        "    data = data.drop(columns=['country'])\n",
        "    # Drop hotel name\n",
        "    data = data.drop(columns='hotel')\n",
        "    # If children is Nan treat it as 0\n",
        "    data['children'] = data['children'].fillna(0)\n",
        "    # Encode categorial data with ints\n",
        "    categorial_columns = data.select_dtypes(['category']).columns\n",
        "    data[categorial_columns] = data[categorial_columns].apply(lambda x: x.cat.codes)\n",
        "    return data"
      ],
      "execution_count": 0,
      "outputs": []
    },
    {
      "cell_type": "code",
      "metadata": {
        "id": "gbpkWXjIoABa",
        "colab_type": "code",
        "colab": {}
      },
      "source": [
        "def split_to_test_and_train(data, p=0.1):\n",
        "    train_mask = np.random.rand(len(data)) < 0.9\n",
        "    return data[train_mask], data[~train_mask]\n",
        "\n",
        "y_columns=[\"is_repeated_guest\"]\n",
        "\n",
        "def split_to_x_y(data, y_columns=y_columns):\n",
        "    return data.drop(columns=y_columns), data[y_columns]\n",
        "\n",
        "def get_data(data):\n",
        "    return (split_to_x_y(ds) for ds in split_to_test_and_train(data))"
      ],
      "execution_count": 0,
      "outputs": []
    },
    {
      "cell_type": "code",
      "metadata": {
        "id": "K2f2VM_pmdqE",
        "colab_type": "code",
        "colab": {}
      },
      "source": [
        "data = process_data(pd.read_csv(\"hotel_bookings.csv\"))\n",
        "(train_x, train_y), (test_x, test_y) = get_data(data)"
      ],
      "execution_count": 0,
      "outputs": []
    },
    {
      "cell_type": "markdown",
      "metadata": {
        "id": "p9P-EwJlBTFA",
        "colab_type": "text"
      },
      "source": [
        "## Simple data analyzys"
      ]
    },
    {
      "cell_type": "code",
      "metadata": {
        "id": "caD7hfLqBPaf",
        "colab_type": "code",
        "colab": {}
      },
      "source": [
        "count_values = data[\"is_repeated_guest\"].value_counts()"
      ],
      "execution_count": 0,
      "outputs": []
    },
    {
      "cell_type": "code",
      "metadata": {
        "id": "4rahLOTwB1rB",
        "colab_type": "code",
        "colab": {}
      },
      "source": [
        "import matplotlib.pyplot as plt"
      ],
      "execution_count": 0,
      "outputs": []
    },
    {
      "cell_type": "code",
      "metadata": {
        "id": "7izy78BCBZHm",
        "colab_type": "code",
        "outputId": "b76d99ba-59d9-4cf6-fca2-8d6b48933bf2",
        "colab": {
          "base_uri": "https://localhost:8080/",
          "height": 452
        }
      },
      "source": [
        "_ = plt.figure(figsize=(15,10))\n",
        "plt.bar(['False', 'True'], count_values.values, color=[(0.2, 0.4, 0.6, 0.6), 'red'],  edgecolor='grey')\n",
        "plt.title(\"Value counts in \\\"is_repeated_guest\\\" column\")\n",
        "plt.xlabel('value')\n",
        "plt.ylabel('number of observations')"
      ],
      "execution_count": 9,
      "outputs": [
        {
          "output_type": "execute_result",
          "data": {
            "text/plain": [
              "Text(0, 0.5, 'number of observations')"
            ]
          },
          "metadata": {
            "tags": []
          },
          "execution_count": 9
        },
        {
          "output_type": "display_data",
          "data": {
            "image/png": "[encoded data removed]",
            "text/plain": [
              "<Figure size 1080x720 with 1 Axes>"
            ]
          },
          "metadata": {
            "tags": []
          }
        }
      ]
    },
    {
      "cell_type": "markdown",
      "metadata": {
        "id": "p0fLgWJPBM2s",
        "colab_type": "text"
      },
      "source": [
        "## Create models"
      ]
    },
    {
      "cell_type": "code",
      "metadata": {
        "id": "vm8GqIOsmsXc",
        "colab_type": "code",
        "colab": {}
      },
      "source": [
        "from xgboost import XGBClassifier\n",
        "from sklearn.ensemble import RandomForestClassifier\n",
        "models = {\"XGBClassifier\": XGBClassifier(), \"XGBClassifier_spw32\": XGBClassifier(scale_pos_weight=32.), \"XGBClassifier_spw256\": XGBClassifier(scale_pos_weight=256.),  \"RandomForestClassifier\": RandomForestClassifier()}"
      ],
      "execution_count": 0,
      "outputs": []
    },
    {
      "cell_type": "markdown",
      "metadata": {
        "id": "pMW-xAu-nwat",
        "colab_type": "text"
      },
      "source": [
        "## Train models"
      ]
    },
    {
      "cell_type": "code",
      "metadata": {
        "id": "hK9Ro0AZnHvr",
        "colab_type": "code",
        "outputId": "665e3fb3-1867-4dfa-ab66-70e25db7d1a1",
        "colab": {
          "base_uri": "https://localhost:8080/",
          "height": 141
        }
      },
      "source": [
        "for model_name, model in models.items():\n",
        "    model.fit(train_x, train_y)"
      ],
      "execution_count": 11,
      "outputs": [
        {
          "output_type": "stream",
          "text": [
            "/usr/local/lib/python3.6/dist-packages/sklearn/preprocessing/_label.py:235: DataConversionWarning: A column-vector y was passed when a 1d array was expected. Please change the shape of y to (n_samples, ), for example using ravel().\n",
            "  y = column_or_1d(y, warn=True)\n",
            "/usr/local/lib/python3.6/dist-packages/sklearn/preprocessing/_label.py:268: DataConversionWarning: A column-vector y was passed when a 1d array was expected. Please change the shape of y to (n_samples, ), for example using ravel().\n",
            "  y = column_or_1d(y, warn=True)\n",
            "/usr/local/lib/python3.6/dist-packages/ipykernel_launcher.py:2: DataConversionWarning: A column-vector y was passed when a 1d array was expected. Please change the shape of y to (n_samples,), for example using ravel().\n",
            "  \n"
          ],
          "name": "stderr"
        }
      ]
    },
    {
      "cell_type": "markdown",
      "metadata": {
        "id": "ECPXM9JzqKr4",
        "colab_type": "text"
      },
      "source": [
        "## Evaluate models\n"
      ]
    },
    {
      "cell_type": "code",
      "metadata": {
        "id": "GaGOBQ0R7T_T",
        "colab_type": "code",
        "outputId": "a8bbd033-e646-4043-8afe-b579b043c1b9",
        "colab": {
          "base_uri": "https://localhost:8080/",
          "height": 300
        }
      },
      "source": [
        "# Describe the distribution of the result in the test dataset\n",
        "pd.DataFrame(test_y).describe()"
      ],
      "execution_count": 12,
      "outputs": [
        {
          "output_type": "execute_result",
          "data": {
            "text/html": [
              "<div>\n",
              "<style scoped>\n",
              "    .dataframe tbody tr th:only-of-type {\n",
              "        vertical-align: middle;\n",
              "    }\n",
              "\n",
              "    .dataframe tbody tr th {\n",
              "        vertical-align: top;\n",
              "    }\n",
              "\n",
              "    .dataframe thead th {\n",
              "        text-align: right;\n",
              "    }\n",
              "</style>\n",
              "<table border=\"1\" class=\"dataframe\">\n",
              "  <thead>\n",
              "    <tr style=\"text-align: right;\">\n",
              "      <th></th>\n",
              "      <th>is_repeated_guest</th>\n",
              "    </tr>\n",
              "  </thead>\n",
              "  <tbody>\n",
              "    <tr>\n",
              "      <th>count</th>\n",
              "      <td>12027.000000</td>\n",
              "    </tr>\n",
              "    <tr>\n",
              "      <th>mean</th>\n",
              "      <td>0.035254</td>\n",
              "    </tr>\n",
              "    <tr>\n",
              "      <th>std</th>\n",
              "      <td>0.184429</td>\n",
              "    </tr>\n",
              "    <tr>\n",
              "      <th>min</th>\n",
              "      <td>0.000000</td>\n",
              "    </tr>\n",
              "    <tr>\n",
              "      <th>25%</th>\n",
              "      <td>0.000000</td>\n",
              "    </tr>\n",
              "    <tr>\n",
              "      <th>50%</th>\n",
              "      <td>0.000000</td>\n",
              "    </tr>\n",
              "    <tr>\n",
              "      <th>75%</th>\n",
              "      <td>0.000000</td>\n",
              "    </tr>\n",
              "    <tr>\n",
              "      <th>max</th>\n",
              "      <td>1.000000</td>\n",
              "    </tr>\n",
              "  </tbody>\n",
              "</table>\n",
              "</div>"
            ],
            "text/plain": [
              "       is_repeated_guest\n",
              "count       12027.000000\n",
              "mean            0.035254\n",
              "std             0.184429\n",
              "min             0.000000\n",
              "25%             0.000000\n",
              "50%             0.000000\n",
              "75%             0.000000\n",
              "max             1.000000"
            ]
          },
          "metadata": {
            "tags": []
          },
          "execution_count": 12
        }
      ]
    },
    {
      "cell_type": "code",
      "metadata": {
        "id": "Byd2Z5m9nDSC",
        "colab_type": "code",
        "outputId": "08cea234-3a9f-41ef-f23b-35868663dd98",
        "colab": {
          "base_uri": "https://localhost:8080/",
          "height": 384
        }
      },
      "source": [
        "from sklearn.metrics import accuracy_score\n",
        "models_summary = {name: {\"train_accuracy\": accuracy_score(train_y, model.predict(train_x)),\n",
        "                         \"test_accuracy\": accuracy_score(test_y, model.predict(test_x)),\n",
        "                         \"test_wrong_answer_distribution\": test_y[model.predict(test_x) != test_y.values]['is_repeated_guest'].value_counts(normalize=True)[1]}\n",
        "                  for name, model in models.items()}\n",
        "models_summary['base'] = {\"train_accuracy\": 0.,\n",
        "                         \"test_accuracy\": 0.,\n",
        "                         \"test_wrong_answer_distribution\": test_y['is_repeated_guest'].value_counts(normalize=True)[1] }\n",
        "for name, summary in models_summary.items():\n",
        "    print(\"model:\", name, \"\\n\",\n",
        "          \"\\ttrain acc:\", summary[\"train_accuracy\"], \"\\n\"\n",
        "          \"\\ttest acc:\", summary[\"test_accuracy\"], \"\\n\"\n",
        "          \"\\tmean value of the wrong answer for prediction on the test part:\", summary[\"test_wrong_answer_distribution\"])"
      ],
      "execution_count": 13,
      "outputs": [
        {
          "output_type": "stream",
          "text": [
            "model: XGBClassifier \n",
            " \ttrain acc: 0.9904529493400892 \n",
            "\ttest acc: 0.9904381807599567 \n",
            "\tmean value of the wrong answer for prediction on the test part: 0.48863316767387155\n",
            "model: XGBClassifier_spw32 \n",
            " \ttrain acc: 0.9636932649050418 \n",
            "\ttest acc: 0.9612538455142596 \n",
            "\tmean value of the wrong answer for prediction on the test part: 0.32017023554473467\n",
            "model: XGBClassifier_spw256 \n",
            " \ttrain acc: 0.90334659053864 \n",
            "\ttest acc: 0.9017211274632078 \n",
            "\tmean value of the wrong answer for prediction on the test part: 0.1923378245605731\n",
            "model: RandomForestClassifier \n",
            " \ttrain acc: 0.9997950876931532 \n",
            "\ttest acc: 0.9920179595909204 \n",
            "\tmean value of the wrong answer for prediction on the test part: 0.49515468976236343\n",
            "model: base \n",
            " \ttrain acc: 0.0 \n",
            "\ttest acc: 0.0 \n",
            "\tmean value of the wrong answer for prediction on the test part: 0.035254011806768105\n"
          ],
          "name": "stdout"
        }
      ]
    },
    {
      "cell_type": "code",
      "metadata": {
        "id": "kfrJip-rHVvk",
        "colab_type": "code",
        "outputId": "a1809e27-1f9c-4211-83d8-9833b9192130",
        "colab": {
          "base_uri": "https://localhost:8080/",
          "height": 383
        }
      },
      "source": [
        "fig, ax = plt.subplots(figsize=(16,10))\n",
        "labels = list(map(lambda name_summary: name_summary[0] if name_summary[0] == 'base' else name_summary[0] + \"\\nacc:\" + str(name_summary[1]['test_accuracy']), models_summary.items()))\n",
        "ax.bar(labels, list(map(lambda summary: summary['test_accuracy'], models_summary.values())), label=\"accuracy\")\n",
        "ax.bar(labels, list(map(lambda summary: (-1)* summary['test_wrong_answer_distribution'], models_summary.values())), label=\"Distribution of the wrong answer\")\n",
        "\n",
        "# Formatting x labels\n",
        "plt.xlabel('Model name')\n",
        "plt.legend()\n",
        "# Use absolute value for y-ticks\n",
        "ticks =  ax.get_yticks()\n",
        "ax.set_yticklabels([abs(tick) for tick in ticks])\n",
        "\n",
        "plt.show()"
      ],
      "execution_count": 14,
      "outputs": [
        {
          "output_type": "display_data",
          "data": {
            "image/png": "[encoded data removed]",
            "text/plain": [
              "<Figure size 1152x720 with 1 Axes>"
            ]
          },
          "metadata": {
            "tags": []
          }
        }
      ]
    },
    {
      "cell_type": "markdown",
      "metadata": {
        "id": "z63eoqTkGYRy",
        "colab_type": "text"
      },
      "source": [
        "## Explaining"
      ]
    },
    {
      "cell_type": "code",
      "metadata": {
        "id": "vhEDtZo-GpnY",
        "colab_type": "code",
        "colab": {}
      },
      "source": [
        "from dalex import Explainer"
      ],
      "execution_count": 0,
      "outputs": []
    },
    {
      "cell_type": "code",
      "metadata": {
        "id": "BZWtQ4v0GcK0",
        "colab_type": "code",
        "colab": {
          "base_uri": "https://localhost:8080/",
          "height": 940
        },
        "outputId": "74d05858-e5a8-4830-c6ea-d24778989dfc"
      },
      "source": [
        "explainers = {name: Explainer(model=model, data=test_x, y=test_y['is_repeated_guest'], model_type='classifier') for name, model in models.items()}"
      ],
      "execution_count": 16,
      "outputs": [
        {
          "output_type": "stream",
          "text": [
            "Preparation of a new explainer is initiated\n",
            "\n",
            "  -> label             : not specified, model's class taken instead!\n",
            "  -> data              : 12027 rows 52 cols\n",
            "  -> target variable   :  Argument 'y' was a pandas.Series. Converted to a numpy.ndarray.\n",
            "  -> target variable   : 12027 values\n",
            "  -> predict function  : <function yhat.<locals>.<lambda> at 0x7fa6a73f07b8> will be used\n",
            "  -> predicted values  : min = 0.00011373791, mean = 0.03464703, max = 0.9800724\n",
            "  -> residual function : difference between y and yhat\n",
            "  -> residuals         : min = -0.9698466658592224, mean = 0.0006069812928060677, max = 0.9990989684010856\n",
            "  -> model_info        : package xgboost\n",
            "\n",
            "A new explainer has been created!\n",
            "Preparation of a new explainer is initiated\n",
            "\n",
            "  -> label             : not specified, model's class taken instead!\n",
            "  -> data              : 12027 rows 52 cols\n",
            "  -> target variable   :  Argument 'y' was a pandas.Series. Converted to a numpy.ndarray.\n",
            "  -> target variable   : 12027 values\n",
            "  -> predict function  : <function yhat.<locals>.<lambda> at 0x7fa6a73f09d8> will be used\n",
            "  -> predicted values  : min = 0.0008924799, mean = 0.097416826, max = 0.99823904\n",
            "  -> residual function : difference between y and yhat\n",
            "  -> residuals         : min = -0.9976292252540588, mean = -0.06216281573972096, max = 0.9907314525917172\n",
            "  -> model_info        : package xgboost\n",
            "\n",
            "A new explainer has been created!\n",
            "Preparation of a new explainer is initiated\n",
            "\n",
            "  -> label             : not specified, model's class taken instead!\n",
            "  -> data              : 12027 rows 52 cols\n",
            "  -> target variable   :  Argument 'y' was a pandas.Series. Converted to a numpy.ndarray.\n",
            "  -> target variable   : 12027 values\n",
            "  -> predict function  : <function yhat.<locals>.<lambda> at 0x7fa6a73f0b70> will be used\n",
            "  -> predicted values  : min = 0.0014074784, mean = 0.2055838, max = 0.9995604\n",
            "  -> residual function : difference between y and yhat\n",
            "  -> residuals         : min = -0.9995430707931519, mean = -0.17032978438510024, max = 0.9037057980895042\n",
            "  -> model_info        : package xgboost\n",
            "\n",
            "A new explainer has been created!\n",
            "Preparation of a new explainer is initiated\n",
            "\n",
            "  -> label             : not specified, model's class taken instead!\n",
            "  -> data              : 12027 rows 52 cols\n",
            "  -> target variable   :  Argument 'y' was a pandas.Series. Converted to a numpy.ndarray.\n",
            "  -> target variable   : 12027 values\n",
            "  -> predict function  : <function yhat.<locals>.<lambda> at 0x7fa6a73f0d08> will be used\n",
            "  -> predicted values  : min = 0.0, mean = 0.034580160870433675, max = 1.0\n",
            "  -> residual function : difference between y and yhat\n",
            "  -> residuals         : min = -0.97, mean = 0.0006738509363344275, max = 1.0\n",
            "  -> model_info        : package sklearn\n",
            "\n",
            "A new explainer has been created!\n"
          ],
          "name": "stdout"
        }
      ]
    },
    {
      "cell_type": "code",
      "metadata": {
        "id": "zGU0WwdNH64_",
        "colab_type": "code",
        "colab": {}
      },
      "source": [
        "def explain(x, explainer):\n",
        "    # Shap\n",
        "    #shap = explainer.predict_parts(x, type='shap')\n",
        "    #shap.plot()\n",
        "\n",
        "    # Break Down\n",
        "    break_down = explainer.predict_parts(test_x.loc[x].astype('float'), type='break_down')\n",
        "    break_down.plot()"
      ],
      "execution_count": 0,
      "outputs": []
    },
    {
      "cell_type": "code",
      "metadata": {
        "id": "W3Lhwf5gIBXT",
        "colab_type": "code",
        "colab": {}
      },
      "source": [
        "def explain_all(x):\n",
        "    for explainer in explainers.values():\n",
        "        explain(x, explainer)"
      ],
      "execution_count": 0,
      "outputs": []
    },
    {
      "cell_type": "code",
      "metadata": {
        "id": "sVup6KXvIRU2",
        "colab_type": "code",
        "colab": {
          "base_uri": "https://localhost:8080/",
          "height": 843
        },
        "outputId": "4e062ea8-15d1-471d-f0ed-42bb9a0d0998"
      },
      "source": [
        "explain(14855, explainers['XGBClassifier'])\n",
        "explain(14855, explainers['XGBClassifier_spw256'])"
      ],
      "execution_count": 19,
      "outputs": [
        {
          "output_type": "display_data",
          "data": {
            "text/html": [
              "<html>\n",
              "<head><meta charset=\"utf-8\" /></head>\n",
              "<body>\n",
              "    <div>\n",
              "            <script src=\"https://cdnjs.cloudflare.com/ajax/libs/mathjax/2.7.5/MathJax.js?config=TeX-AMS-MML_SVG\"></script><script type=\"text/javascript\">if (window.MathJax) {MathJax.Hub.Config({SVG: {font: \"STIX-Web\"}});}</script>\n",
              "                <script type=\"text/javascript\">window.PlotlyConfig = {MathJaxConfig: 'local'};</script>\n",
              "        <script src=\"https://cdn.plot.ly/plotly-latest.min.js\"></script>    \n",
              "            <div id=\"bd9de921-93d1-49da-a6f7-a8612cd500d6\" class=\"plotly-graph-div\" style=\"height:413.0px; width:100%;\"></div>\n",
              "            <script type=\"text/javascript\">\n",
              "                \n",
              "                    window.PLOTLYENV=window.PLOTLYENV || {};\n",
              "                    \n",
              "                if (document.getElementById(\"bd9de921-93d1-49da-a6f7-a8612cd500d6\")) {\n",
              "                    Plotly.newPlot(\n",
              "                        'bd9de921-93d1-49da-a6f7-a8612cd500d6',\n",
              "                        [{\"base\": 0.034647028893232346, \"connector\": {\"line\": {\"color\": \"#371ea3\", \"dash\": \"solid\", \"width\": 1}, \"mode\": \"spanning\"}, \"decreasing\": {\"marker\": {\"color\": \"#f05a71\"}}, \"hoverinfo\": \"text+delta\", \"hoverlabel\": {\"bgcolor\": \"rgba(0,0,0,0.8)\"}, \"hovertext\": [\"Average response: 0.035<br>Prediction: 0.033\", \"previous_cancellations = 1.0<br>increases average response <br>by\", \"market_segment_Online TA = 0.0<br>increases average response <br>by\", \"deposit_type_No Deposit = 1.0<br>increases average response <br>by\", \"assigned_room_type = 0.0<br>decreases average response <br>by\", \"got_lower_type_room = 0.0<br>decreases average response <br>by\", \"deposit_type_Non Refund = 0.0<br>increases average response <br>by\", \"market_segment_Groups = 0.0<br>decreases average response <br>by\", \"market_segment_Offline TA/TO = 1.0<br>increases average response <br>by\", \"arrival_date_month = 8.0<br>decreases average response <br>by\", \"days_in_waiting_list = 0.0<br>increases average response <br>by\", \"+ all other factors<br>decreases average response <br>by\", \"Average response: 0.035<br>Prediction: 0.033\"], \"increasing\": {\"marker\": {\"color\": \"#8bdcbe\"}}, \"measure\": [\"relative\", \"relative\", \"relative\", \"relative\", \"relative\", \"relative\", \"relative\", \"relative\", \"relative\", \"relative\", \"relative\", \"relative\", \"total\"], \"orientation\": \"h\", \"showlegend\": false, \"text\": [\"0.035\", \"+0.07199999690055847\", \"+0.013000000268220901\", \"+0.0020000000949949026\", \"0.0\", \"0.0\", \"+0.004000000189989805\", \"0.0\", \"+0.0010000000474974513\", \"0.0\", \"+0.0010000000474974513\", \"-0.0860000029206276\", \"0.033\"], \"textposition\": \"outside\", \"totals\": {\"marker\": {\"color\": \"#371ea3\"}}, \"type\": \"waterfall\", \"x\": [0.0, 0.07199999690055847, 0.013000000268220901, 0.0020000000949949026, 0.0, 0.0, 0.004000000189989805, 0.0, 0.0010000000474974513, 0.0, 0.0010000000474974513, -0.0860000029206276, -0.0010000000474974513], \"xaxis\": \"x\", \"y\": [\"intercept\", \"previous_cancellations = 1.0\", \"market_segment_Online TA = 0.0\", \"deposit_type_No Deposit = 1.0\", \"assigned_room_type = 0.0\", \"got_lower_type_room = 0.0\", \"deposit_type_Non Refund = 0.0\", \"market_segment_Groups = 0.0\", \"market_segment_Offline TA/TO = 1.0\", \"arrival_date_month = 8.0\", \"days_in_waiting_list = 0.0\", \"+ all other factors\", \"prediction\"], \"yaxis\": \"y\"}],\n",
              "                        {\"annotations\": [{\"font\": {\"size\": 16}, \"showarrow\": false, \"text\": \"XGBClassifier\", \"x\": 0.5, \"xanchor\": \"center\", \"xref\": \"paper\", \"y\": 1.0, \"yanchor\": \"bottom\", \"yref\": \"paper\"}, {\"font\": {\"size\": 16}, \"showarrow\": false, \"text\": \"contribution\", \"x\": 0.5, \"xanchor\": \"center\", \"xref\": \"paper\", \"y\": 0, \"yanchor\": \"top\", \"yref\": \"paper\", \"yshift\": -30}], \"font\": {\"color\": \"#371ea3\"}, \"height\": 413.0, \"margin\": {\"b\": 71, \"r\": 30, \"t\": 78}, \"shapes\": [{\"line\": {\"color\": \"#371ea3\", \"dash\": \"dot\", \"width\": 1.5}, \"type\": \"line\", \"x0\": 0.034647028893232346, \"x1\": 0.034647028893232346, \"xref\": \"x\", \"y0\": 0, \"y1\": 12, \"yref\": \"y\"}], \"template\": {\"data\": {\"scatter\": [{\"type\": \"scatter\"}]}}, \"title\": {\"text\": \"Break Down\", \"x\": 0.15}, \"xaxis\": {\"anchor\": \"y\", \"automargin\": true, \"domain\": [0.0, 1.0], \"fixedrange\": true, \"gridwidth\": 2, \"range\": [0.01874999888241291, 0.14225000701844692], \"tickcolor\": \"white\", \"ticklen\": 3, \"ticks\": \"outside\", \"type\": \"linear\", \"zeroline\": false}, \"yaxis\": {\"anchor\": \"x\", \"automargin\": true, \"autorange\": \"reversed\", \"domain\": [0.0, 1.0], \"fixedrange\": true, \"gridwidth\": 2, \"tickcolor\": \"white\", \"ticklen\": 10, \"ticks\": \"outside\", \"type\": \"category\"}},\n",
              "                        {\"displaylogo\": false, \"staticPlot\": false, \"modeBarButtonsToRemove\": [\"sendDataToCloud\", \"lasso2d\", \"autoScale2d\", \"select2d\", \"zoom2d\", \"pan2d\", \"zoomIn2d\", \"zoomOut2d\", \"resetScale2d\", \"toggleSpikelines\", \"hoverCompareCartesian\", \"hoverClosestCartesian\"], \"responsive\": true}\n",
              "                    ).then(function(){\n",
              "                            \n",
              "var gd = document.getElementById('bd9de921-93d1-49da-a6f7-a8612cd500d6');\n",
              "var x = new MutationObserver(function (mutations, observer) {{\n",
              "        var display = window.getComputedStyle(gd).display;\n",
              "        if (!display || display === 'none') {{\n",
              "            console.log([gd, 'removed!']);\n",
              "            Plotly.purge(gd);\n",
              "            observer.disconnect();\n",
              "        }}\n",
              "}});\n",
              "\n",
              "// Listen for the removal of the full notebook cells\n",
              "var notebookContainer = gd.closest('#notebook-container');\n",
              "if (notebookContainer) {{\n",
              "    x.observe(notebookContainer, {childList: true});\n",
              "}}\n",
              "\n",
              "// Listen for the clearing of the current output cell\n",
              "var outputEl = gd.closest('.output');\n",
              "if (outputEl) {{\n",
              "    x.observe(outputEl, {childList: true});\n",
              "}}\n",
              "\n",
              "                        })\n",
              "                };\n",
              "                \n",
              "            </script>\n",
              "        </div>\n",
              "</body>\n",
              "</html>"
            ]
          },
          "metadata": {
            "tags": []
          }
        },
        {
          "output_type": "display_data",
          "data": {
            "text/html": [
              "<html>\n",
              "<head><meta charset=\"utf-8\" /></head>\n",
              "<body>\n",
              "    <div>\n",
              "            <script src=\"https://cdnjs.cloudflare.com/ajax/libs/mathjax/2.7.5/MathJax.js?config=TeX-AMS-MML_SVG\"></script><script type=\"text/javascript\">if (window.MathJax) {MathJax.Hub.Config({SVG: {font: \"STIX-Web\"}});}</script>\n",
              "                <script type=\"text/javascript\">window.PlotlyConfig = {MathJaxConfig: 'local'};</script>\n",
              "        <script src=\"https://cdn.plot.ly/plotly-latest.min.js\"></script>    \n",
              "            <div id=\"e60405a2-0137-4531-b619-9e3e894e784f\" class=\"plotly-graph-div\" style=\"height:413.0px; width:100%;\"></div>\n",
              "            <script type=\"text/javascript\">\n",
              "                \n",
              "                    window.PLOTLYENV=window.PLOTLYENV || {};\n",
              "                    \n",
              "                if (document.getElementById(\"e60405a2-0137-4531-b619-9e3e894e784f\")) {\n",
              "                    Plotly.newPlot(\n",
              "                        'e60405a2-0137-4531-b619-9e3e894e784f',\n",
              "                        [{\"base\": 0.20558379590511322, \"connector\": {\"line\": {\"color\": \"#371ea3\", \"dash\": \"solid\", \"width\": 1}, \"mode\": \"spanning\"}, \"decreasing\": {\"marker\": {\"color\": \"#f05a71\"}}, \"hoverinfo\": \"text+delta\", \"hoverlabel\": {\"bgcolor\": \"rgba(0,0,0,0.8)\"}, \"hovertext\": [\"Average response: 0.206<br>Prediction: 0.899\", \"previous_cancellations = 1.0<br>increases average response <br>by\", \"adr = 3.4e+01<br>decreases average response <br>by\", \"market_segment_Online TA = 0.0<br>increases average response <br>by\", \"deposit_type_No Deposit = 1.0<br>increases average response <br>by\", \"arrival_date_week_number = 3.9e+01<br>increases average response <br>by\", \"deposit_type_Non Refund = 0.0<br>increases average response <br>by\", \"distribution_channel_Direct = 0.0<br>increases average response <br>by\", \"meal_SC = 0.0<br>decreases average response <br>by\", \"days_in_waiting_list = 0.0<br>increases average response <br>by\", \"adults = 2.0<br>decreases average response <br>by\", \"+ all other factors<br>decreases average response <br>by\", \"Average response: 0.206<br>Prediction: 0.899\"], \"increasing\": {\"marker\": {\"color\": \"#8bdcbe\"}}, \"measure\": [\"relative\", \"relative\", \"relative\", \"relative\", \"relative\", \"relative\", \"relative\", \"relative\", \"relative\", \"relative\", \"relative\", \"relative\", \"total\"], \"orientation\": \"h\", \"showlegend\": false, \"text\": [\"0.206\", \"+0.6259999871253967\", \"-0.007000000216066837\", \"+0.019999999552965164\", \"+0.04699999839067459\", \"+0.004999999888241291\", \"+0.032999999821186066\", \"+0.0010000000474974513\", \"-0.0010000000474974513\", \"+0.0010000000474974513\", \"0.0\", \"-0.02800000086426735\", \"0.899\"], \"textposition\": \"outside\", \"totals\": {\"marker\": {\"color\": \"#371ea3\"}}, \"type\": \"waterfall\", \"x\": [0.0, 0.6259999871253967, -0.007000000216066837, 0.019999999552965164, 0.04699999839067459, 0.004999999888241291, 0.032999999821186066, 0.0010000000474974513, -0.0010000000474974513, 0.0010000000474974513, 0.0, -0.02800000086426735, 0.6940000057220459], \"xaxis\": \"x\", \"y\": [\"intercept\", \"previous_cancellations = 1.0\", \"adr = 3.4e+01\", \"market_segment_Online TA = 0.0\", \"deposit_type_No Deposit = 1.0\", \"arrival_date_week_number = 3.9e+01\", \"deposit_type_Non Refund = 0.0\", \"distribution_channel_Direct = 0.0\", \"meal_SC = 0.0\", \"days_in_waiting_list = 0.0\", \"adults = 2.0\", \"+ all other factors\", \"prediction\"], \"yaxis\": \"y\"}],\n",
              "                        {\"annotations\": [{\"font\": {\"size\": 16}, \"showarrow\": false, \"text\": \"XGBClassifier\", \"x\": 0.5, \"xanchor\": \"center\", \"xref\": \"paper\", \"y\": 1.0, \"yanchor\": \"bottom\", \"yref\": \"paper\"}, {\"font\": {\"size\": 16}, \"showarrow\": false, \"text\": \"contribution\", \"x\": 0.5, \"xanchor\": \"center\", \"xref\": \"paper\", \"y\": 0, \"yanchor\": \"top\", \"yref\": \"paper\", \"yshift\": -30}], \"font\": {\"color\": \"#371ea3\"}, \"height\": 413.0, \"margin\": {\"b\": 71, \"r\": 30, \"t\": 78}, \"shapes\": [{\"line\": {\"color\": \"#371ea3\", \"dash\": \"dot\", \"width\": 1.5}, \"type\": \"line\", \"x0\": 0.20558379590511322, \"x1\": 0.20558379590511322, \"xref\": \"x\", \"y0\": 0, \"y1\": 12, \"yref\": \"y\"}], \"template\": {\"data\": {\"scatter\": [{\"type\": \"scatter\"}]}}, \"title\": {\"text\": \"Break Down\", \"x\": 0.15}, \"xaxis\": {\"anchor\": \"y\", \"automargin\": true, \"domain\": [0.0, 1.0], \"fixedrange\": true, \"gridwidth\": 2, \"range\": [0.0971000075340271, 1.0408999741077423], \"tickcolor\": \"white\", \"ticklen\": 3, \"ticks\": \"outside\", \"type\": \"linear\", \"zeroline\": false}, \"yaxis\": {\"anchor\": \"x\", \"automargin\": true, \"autorange\": \"reversed\", \"domain\": [0.0, 1.0], \"fixedrange\": true, \"gridwidth\": 2, \"tickcolor\": \"white\", \"ticklen\": 10, \"ticks\": \"outside\", \"type\": \"category\"}},\n",
              "                        {\"displaylogo\": false, \"staticPlot\": false, \"modeBarButtonsToRemove\": [\"sendDataToCloud\", \"lasso2d\", \"autoScale2d\", \"select2d\", \"zoom2d\", \"pan2d\", \"zoomIn2d\", \"zoomOut2d\", \"resetScale2d\", \"toggleSpikelines\", \"hoverCompareCartesian\", \"hoverClosestCartesian\"], \"responsive\": true}\n",
              "                    ).then(function(){\n",
              "                            \n",
              "var gd = document.getElementById('e60405a2-0137-4531-b619-9e3e894e784f');\n",
              "var x = new MutationObserver(function (mutations, observer) {{\n",
              "        var display = window.getComputedStyle(gd).display;\n",
              "        if (!display || display === 'none') {{\n",
              "            console.log([gd, 'removed!']);\n",
              "            Plotly.purge(gd);\n",
              "            observer.disconnect();\n",
              "        }}\n",
              "}});\n",
              "\n",
              "// Listen for the removal of the full notebook cells\n",
              "var notebookContainer = gd.closest('#notebook-container');\n",
              "if (notebookContainer) {{\n",
              "    x.observe(notebookContainer, {childList: true});\n",
              "}}\n",
              "\n",
              "// Listen for the clearing of the current output cell\n",
              "var outputEl = gd.closest('.output');\n",
              "if (outputEl) {{\n",
              "    x.observe(outputEl, {childList: true});\n",
              "}}\n",
              "\n",
              "                        })\n",
              "                };\n",
              "                \n",
              "            </script>\n",
              "        </div>\n",
              "</body>\n",
              "</html>"
            ]
          },
          "metadata": {
            "tags": []
          }
        }
      ]
    },
    {
      "cell_type": "code",
      "metadata": {
        "id": "SwaNLg2ibcZb",
        "colab_type": "code",
        "colab": {
          "base_uri": "https://localhost:8080/",
          "height": 843
        },
        "outputId": "0a94535e-9748-4d43-da87-788411e6a1e2"
      },
      "source": [
        "explain(21, explainers['XGBClassifier'])\n",
        "explain(21, explainers['XGBClassifier_spw256'])"
      ],
      "execution_count": 22,
      "outputs": [
        {
          "output_type": "display_data",
          "data": {
            "text/html": [
              "<html>\n",
              "<head><meta charset=\"utf-8\" /></head>\n",
              "<body>\n",
              "    <div>\n",
              "            <script src=\"https://cdnjs.cloudflare.com/ajax/libs/mathjax/2.7.5/MathJax.js?config=TeX-AMS-MML_SVG\"></script><script type=\"text/javascript\">if (window.MathJax) {MathJax.Hub.Config({SVG: {font: \"STIX-Web\"}});}</script>\n",
              "                <script type=\"text/javascript\">window.PlotlyConfig = {MathJaxConfig: 'local'};</script>\n",
              "        <script src=\"https://cdn.plot.ly/plotly-latest.min.js\"></script>    \n",
              "            <div id=\"cb55b82e-b440-4929-8dab-4b9ac8e557eb\" class=\"plotly-graph-div\" style=\"height:413.0px; width:100%;\"></div>\n",
              "            <script type=\"text/javascript\">\n",
              "                \n",
              "                    window.PLOTLYENV=window.PLOTLYENV || {};\n",
              "                    \n",
              "                if (document.getElementById(\"cb55b82e-b440-4929-8dab-4b9ac8e557eb\")) {\n",
              "                    Plotly.newPlot(\n",
              "                        'cb55b82e-b440-4929-8dab-4b9ac8e557eb',\n",
              "                        [{\"base\": 0.034647028893232346, \"connector\": {\"line\": {\"color\": \"#371ea3\", \"dash\": \"solid\", \"width\": 1}, \"mode\": \"spanning\"}, \"decreasing\": {\"marker\": {\"color\": \"#f05a71\"}}, \"hoverinfo\": \"text+delta\", \"hoverlabel\": {\"bgcolor\": \"rgba(0,0,0,0.8)\"}, \"hovertext\": [\"Average response: 0.035<br>Prediction: 0.001\", \"market_segment_Online TA = 0.0<br>increases average response <br>by\", \"deposit_type_No Deposit = 1.0<br>decreases average response <br>by\", \"assigned_room_type = 0.0<br>decreases average response <br>by\", \"got_lower_type_room = 0.0<br>decreases average response <br>by\", \"deposit_type_Non Refund = 0.0<br>increases average response <br>by\", \"reservation_status_Canceled = 0.0<br>decreases average response <br>by\", \"market_segment_Groups = 0.0<br>decreases average response <br>by\", \"arrival_date_month = 6.0<br>decreases average response <br>by\", \"days_in_waiting_list = 0.0<br>decreases average response <br>by\", \"distribution_channel_TA/TO = 0.0<br>decreases average response <br>by\", \"+ all other factors<br>decreases average response <br>by\", \"Average response: 0.035<br>Prediction: 0.001\"], \"increasing\": {\"marker\": {\"color\": \"#8bdcbe\"}}, \"measure\": [\"relative\", \"relative\", \"relative\", \"relative\", \"relative\", \"relative\", \"relative\", \"relative\", \"relative\", \"relative\", \"relative\", \"relative\", \"total\"], \"orientation\": \"h\", \"showlegend\": false, \"text\": [\"0.035\", \"+0.0010000000474974513\", \"0.0\", \"0.0\", \"0.0\", \"+0.0010000000474974513\", \"0.0\", \"0.0\", \"0.0\", \"0.0\", \"0.0\", \"-0.024000000208616257\", \"0.001\"], \"textposition\": \"outside\", \"totals\": {\"marker\": {\"color\": \"#371ea3\"}}, \"type\": \"waterfall\", \"x\": [0.0, 0.0010000000474974513, 0.0, 0.0, 0.0, 0.0010000000474974513, 0.0, 0.0, 0.0, 0.0, 0.0, -0.024000000208616257, -0.032999999821186066], \"xaxis\": \"x\", \"y\": [\"intercept\", \"market_segment_Online TA = 0.0\", \"deposit_type_No Deposit = 1.0\", \"assigned_room_type = 0.0\", \"got_lower_type_room = 0.0\", \"deposit_type_Non Refund = 0.0\", \"reservation_status_Canceled = 0.0\", \"market_segment_Groups = 0.0\", \"arrival_date_month = 6.0\", \"days_in_waiting_list = 0.0\", \"distribution_channel_TA/TO = 0.0\", \"+ all other factors\", \"prediction\"], \"yaxis\": \"y\"}],\n",
              "                        {\"annotations\": [{\"font\": {\"size\": 16}, \"showarrow\": false, \"text\": \"XGBClassifier\", \"x\": 0.5, \"xanchor\": \"center\", \"xref\": \"paper\", \"y\": 1.0, \"yanchor\": \"bottom\", \"yref\": \"paper\"}, {\"font\": {\"size\": 16}, \"showarrow\": false, \"text\": \"contribution\", \"x\": 0.5, \"xanchor\": \"center\", \"xref\": \"paper\", \"y\": 0, \"yanchor\": \"top\", \"yref\": \"paper\", \"yshift\": -30}], \"font\": {\"color\": \"#371ea3\"}, \"height\": 413.0, \"margin\": {\"b\": 71, \"r\": 30, \"t\": 78}, \"shapes\": [{\"line\": {\"color\": \"#371ea3\", \"dash\": \"dot\", \"width\": 1.5}, \"type\": \"line\", \"x0\": 0.034647028893232346, \"x1\": 0.034647028893232346, \"xref\": \"x\", \"y0\": 0, \"y1\": 12, \"yref\": \"y\"}], \"template\": {\"data\": {\"scatter\": [{\"type\": \"scatter\"}]}}, \"title\": {\"text\": \"Break Down\", \"x\": 0.15}, \"xaxis\": {\"anchor\": \"y\", \"automargin\": true, \"domain\": [0.0, 1.0], \"fixedrange\": true, \"gridwidth\": 2, \"range\": [-0.004550000024028123, 0.04354999884963036], \"tickcolor\": \"white\", \"ticklen\": 3, \"ticks\": \"outside\", \"type\": \"linear\", \"zeroline\": false}, \"yaxis\": {\"anchor\": \"x\", \"automargin\": true, \"autorange\": \"reversed\", \"domain\": [0.0, 1.0], \"fixedrange\": true, \"gridwidth\": 2, \"tickcolor\": \"white\", \"ticklen\": 10, \"ticks\": \"outside\", \"type\": \"category\"}},\n",
              "                        {\"displaylogo\": false, \"staticPlot\": false, \"modeBarButtonsToRemove\": [\"sendDataToCloud\", \"lasso2d\", \"autoScale2d\", \"select2d\", \"zoom2d\", \"pan2d\", \"zoomIn2d\", \"zoomOut2d\", \"resetScale2d\", \"toggleSpikelines\", \"hoverCompareCartesian\", \"hoverClosestCartesian\"], \"responsive\": true}\n",
              "                    ).then(function(){\n",
              "                            \n",
              "var gd = document.getElementById('cb55b82e-b440-4929-8dab-4b9ac8e557eb');\n",
              "var x = new MutationObserver(function (mutations, observer) {{\n",
              "        var display = window.getComputedStyle(gd).display;\n",
              "        if (!display || display === 'none') {{\n",
              "            console.log([gd, 'removed!']);\n",
              "            Plotly.purge(gd);\n",
              "            observer.disconnect();\n",
              "        }}\n",
              "}});\n",
              "\n",
              "// Listen for the removal of the full notebook cells\n",
              "var notebookContainer = gd.closest('#notebook-container');\n",
              "if (notebookContainer) {{\n",
              "    x.observe(notebookContainer, {childList: true});\n",
              "}}\n",
              "\n",
              "// Listen for the clearing of the current output cell\n",
              "var outputEl = gd.closest('.output');\n",
              "if (outputEl) {{\n",
              "    x.observe(outputEl, {childList: true});\n",
              "}}\n",
              "\n",
              "                        })\n",
              "                };\n",
              "                \n",
              "            </script>\n",
              "        </div>\n",
              "</body>\n",
              "</html>"
            ]
          },
          "metadata": {
            "tags": []
          }
        },
        {
          "output_type": "display_data",
          "data": {
            "text/html": [
              "<html>\n",
              "<head><meta charset=\"utf-8\" /></head>\n",
              "<body>\n",
              "    <div>\n",
              "            <script src=\"https://cdnjs.cloudflare.com/ajax/libs/mathjax/2.7.5/MathJax.js?config=TeX-AMS-MML_SVG\"></script><script type=\"text/javascript\">if (window.MathJax) {MathJax.Hub.Config({SVG: {font: \"STIX-Web\"}});}</script>\n",
              "                <script type=\"text/javascript\">window.PlotlyConfig = {MathJaxConfig: 'local'};</script>\n",
              "        <script src=\"https://cdn.plot.ly/plotly-latest.min.js\"></script>    \n",
              "            <div id=\"260ebe57-d6be-4b51-9f32-3c71867609a1\" class=\"plotly-graph-div\" style=\"height:413.0px; width:100%;\"></div>\n",
              "            <script type=\"text/javascript\">\n",
              "                \n",
              "                    window.PLOTLYENV=window.PLOTLYENV || {};\n",
              "                    \n",
              "                if (document.getElementById(\"260ebe57-d6be-4b51-9f32-3c71867609a1\")) {\n",
              "                    Plotly.newPlot(\n",
              "                        '260ebe57-d6be-4b51-9f32-3c71867609a1',\n",
              "                        [{\"base\": 0.20558379590511322, \"connector\": {\"line\": {\"color\": \"#371ea3\", \"dash\": \"solid\", \"width\": 1}, \"mode\": \"spanning\"}, \"decreasing\": {\"marker\": {\"color\": \"#f05a71\"}}, \"hoverinfo\": \"text+delta\", \"hoverlabel\": {\"bgcolor\": \"rgba(0,0,0,0.8)\"}, \"hovertext\": [\"Average response: 0.206<br>Prediction: 0.131\", \"market_segment_Direct = 1.0<br>increases average response <br>by\", \"market_segment_Online TA = 0.0<br>increases average response <br>by\", \"arrival_date_day_of_month = 1.0<br>increases average response <br>by\", \"adr = 8.5e+01<br>increases average response <br>by\", \"reservation_status_Canceled = 0.0<br>increases average response <br>by\", \"deposit_type_No Deposit = 1.0<br>increases average response <br>by\", \"distribution_channel_Direct = 1.0<br>decreases average response <br>by\", \"total_of_special_requests = 1.0<br>increases average response <br>by\", \"deposit_type_Non Refund = 0.0<br>increases average response <br>by\", \"meal_SC = 0.0<br>increases average response <br>by\", \"+ all other factors<br>decreases average response <br>by\", \"Average response: 0.206<br>Prediction: 0.131\"], \"increasing\": {\"marker\": {\"color\": \"#8bdcbe\"}}, \"measure\": [\"relative\", \"relative\", \"relative\", \"relative\", \"relative\", \"relative\", \"relative\", \"relative\", \"relative\", \"relative\", \"relative\", \"relative\", \"total\"], \"orientation\": \"h\", \"showlegend\": false, \"text\": [\"0.206\", \"+0.029999999329447746\", \"+0.029999999329447746\", \"+0.02500000037252903\", \"+0.02500000037252903\", \"+0.029999999329447746\", \"+0.01600000075995922\", \"-0.03500000014901161\", \"+0.014999999664723873\", \"+0.010999999940395355\", \"+0.004999999888241291\", \"-0.14000000059604645\", \"0.131\"], \"textposition\": \"outside\", \"totals\": {\"marker\": {\"color\": \"#371ea3\"}}, \"type\": \"waterfall\", \"x\": [0.0, 0.029999999329447746, 0.029999999329447746, 0.02500000037252903, 0.02500000037252903, 0.029999999329447746, 0.01600000075995922, -0.03500000014901161, 0.014999999664723873, 0.010999999940395355, 0.004999999888241291, -0.14000000059604645, -0.07500000298023224], \"xaxis\": \"x\", \"y\": [\"intercept\", \"market_segment_Direct = 1.0\", \"market_segment_Online TA = 0.0\", \"arrival_date_day_of_month = 1.0\", \"adr = 8.5e+01\", \"reservation_status_Canceled = 0.0\", \"deposit_type_No Deposit = 1.0\", \"distribution_channel_Direct = 1.0\", \"total_of_special_requests = 1.0\", \"deposit_type_Non Refund = 0.0\", \"meal_SC = 0.0\", \"+ all other factors\", \"prediction\"], \"yaxis\": \"y\"}],\n",
              "                        {\"annotations\": [{\"font\": {\"size\": 16}, \"showarrow\": false, \"text\": \"XGBClassifier\", \"x\": 0.5, \"xanchor\": \"center\", \"xref\": \"paper\", \"y\": 1.0, \"yanchor\": \"bottom\", \"yref\": \"paper\"}, {\"font\": {\"size\": 16}, \"showarrow\": false, \"text\": \"contribution\", \"x\": 0.5, \"xanchor\": \"center\", \"xref\": \"paper\", \"y\": 0, \"yanchor\": \"top\", \"yref\": \"paper\", \"yshift\": -30}], \"font\": {\"color\": \"#371ea3\"}, \"height\": 413.0, \"margin\": {\"b\": 71, \"r\": 30, \"t\": 78}, \"shapes\": [{\"line\": {\"color\": \"#371ea3\", \"dash\": \"dot\", \"width\": 1.5}, \"type\": \"line\", \"x0\": 0.20558379590511322, \"x1\": 0.20558379590511322, \"xref\": \"x\", \"y0\": 0, \"y1\": 12, \"yref\": \"y\"}], \"template\": {\"data\": {\"scatter\": [{\"type\": \"scatter\"}]}}, \"title\": {\"text\": \"Break Down\", \"x\": 0.15}, \"xaxis\": {\"anchor\": \"y\", \"automargin\": true, \"domain\": [0.0, 1.0], \"fixedrange\": true, \"gridwidth\": 2, \"range\": [0.09649999663233758, 0.39550000205636027], \"tickcolor\": \"white\", \"ticklen\": 3, \"ticks\": \"outside\", \"type\": \"linear\", \"zeroline\": false}, \"yaxis\": {\"anchor\": \"x\", \"automargin\": true, \"autorange\": \"reversed\", \"domain\": [0.0, 1.0], \"fixedrange\": true, \"gridwidth\": 2, \"tickcolor\": \"white\", \"ticklen\": 10, \"ticks\": \"outside\", \"type\": \"category\"}},\n",
              "                        {\"displaylogo\": false, \"staticPlot\": false, \"modeBarButtonsToRemove\": [\"sendDataToCloud\", \"lasso2d\", \"autoScale2d\", \"select2d\", \"zoom2d\", \"pan2d\", \"zoomIn2d\", \"zoomOut2d\", \"resetScale2d\", \"toggleSpikelines\", \"hoverCompareCartesian\", \"hoverClosestCartesian\"], \"responsive\": true}\n",
              "                    ).then(function(){\n",
              "                            \n",
              "var gd = document.getElementById('260ebe57-d6be-4b51-9f32-3c71867609a1');\n",
              "var x = new MutationObserver(function (mutations, observer) {{\n",
              "        var display = window.getComputedStyle(gd).display;\n",
              "        if (!display || display === 'none') {{\n",
              "            console.log([gd, 'removed!']);\n",
              "            Plotly.purge(gd);\n",
              "            observer.disconnect();\n",
              "        }}\n",
              "}});\n",
              "\n",
              "// Listen for the removal of the full notebook cells\n",
              "var notebookContainer = gd.closest('#notebook-container');\n",
              "if (notebookContainer) {{\n",
              "    x.observe(notebookContainer, {childList: true});\n",
              "}}\n",
              "\n",
              "// Listen for the clearing of the current output cell\n",
              "var outputEl = gd.closest('.output');\n",
              "if (outputEl) {{\n",
              "    x.observe(outputEl, {childList: true});\n",
              "}}\n",
              "\n",
              "                        })\n",
              "                };\n",
              "                \n",
              "            </script>\n",
              "        </div>\n",
              "</body>\n",
              "</html>"
            ]
          },
          "metadata": {
            "tags": []
          }
        }
      ]
    }
  ]
}